{
  "cells": [
    {
      "cell_type": "code",
      "execution_count": 1,
      "id": "18a57f81-d7b9-488a-bba8-a295b3f1859f",
      "metadata": {
        "id": "18a57f81-d7b9-488a-bba8-a295b3f1859f"
      },
      "outputs": [],
      "source": [
        "import sympy as sp\n",
        "from sympy import *\n",
        "from sympy.plotting import plot\n"
      ]
    },
    {
      "cell_type": "markdown",
      "source": [
        "# Discontinues functions\n",
        "\n",
        "$$\n",
        "g(x)=\\frac{sin x }{x}\n",
        "$$\n",
        "\n",
        "$$\n",
        "h(x)=\\frac{1- cos x }{x}\n",
        "$$"
      ],
      "metadata": {
        "id": "LhzYrv3olDfR"
      },
      "id": "LhzYrv3olDfR"
    },
    {
      "cell_type": "code",
      "source": [
        "x=sp.symbols('x')"
      ],
      "metadata": {
        "id": "q3mcD43QnSHH"
      },
      "id": "q3mcD43QnSHH",
      "execution_count": 2,
      "outputs": []
    },
    {
      "cell_type": "code",
      "source": [
        "limit_result = sp.limit(sp.sin(x)/x,x,0)\n",
        "print(limit_result)\n",
        "#sp.sin(0).evalf()"
      ],
      "metadata": {
        "id": "RkOxmKmrneBE",
        "outputId": "7e866917-23b5-4ae7-ee74-651ce51e8175",
        "colab": {
          "base_uri": "https://localhost:8080/"
        }
      },
      "id": "RkOxmKmrneBE",
      "execution_count": 5,
      "outputs": [
        {
          "output_type": "stream",
          "name": "stdout",
          "text": [
            "1\n"
          ]
        }
      ]
    },
    {
      "cell_type": "code",
      "source": [
        "limit_result = sp.limit((1-sp.cos(x))/x,x,0)\n",
        "print(limit_result)"
      ],
      "metadata": {
        "id": "uSEqixFrntkL",
        "outputId": "d1ad13b3-ebbd-4441-b625-cf33fbff50ff",
        "colab": {
          "base_uri": "https://localhost:8080/"
        }
      },
      "id": "uSEqixFrntkL",
      "execution_count": 6,
      "outputs": [
        {
          "output_type": "stream",
          "name": "stdout",
          "text": [
            "0\n"
          ]
        }
      ]
    },
    {
      "cell_type": "code",
      "source": [],
      "metadata": {
        "id": "K3cx4AQRoOJA"
      },
      "id": "K3cx4AQRoOJA",
      "execution_count": null,
      "outputs": []
    },
    {
      "cell_type": "code",
      "source": [
        "from IPython.display import HTML\n",
        "\n",
        "HTML('''\n",
        "<iframe src=\"https://www.desmos.com/calculator/exd2ii122s?embed\"\n",
        "        width=\"500\" height=\"500\" style=\"border: 1px solid #ccc\" frameborder=\"0\"></iframe>\n",
        "''')\n"
      ],
      "metadata": {
        "id": "z9NE9H_hqOef",
        "outputId": "33ebb0b1-cb13-4109-83b3-d9cff9d83f9a",
        "colab": {
          "base_uri": "https://localhost:8080/",
          "height": 523
        }
      },
      "id": "z9NE9H_hqOef",
      "execution_count": 7,
      "outputs": [
        {
          "output_type": "execute_result",
          "data": {
            "text/plain": [
              "<IPython.core.display.HTML object>"
            ],
            "text/html": [
              "\n",
              "<iframe src=\"https://www.desmos.com/calculator/exd2ii122s?embed\" \n",
              "        width=\"500\" height=\"500\" style=\"border: 1px solid #ccc\" frameborder=\"0\"></iframe>\n"
            ]
          },
          "metadata": {},
          "execution_count": 7
        }
      ]
    },
    {
      "cell_type": "code",
      "source": [
        "import matplotlib.pyplot as plt\n",
        "import numpy as np\n",
        "\n",
        "# Create x values, avoiding 0 to prevent division by zero\n",
        "x = np.linspace(-10, 10, 400)\n",
        "x = x[x != 0]  # remove 0 to avoid infinity\n",
        "\n",
        "# Calculate y values\n",
        "y = 1 / x\n",
        "\n",
        "# Plot the function\n",
        "plt.plot(x, y, label='y = 1/x')\n",
        "plt.axhline(0, color='black', linewidth=0.5)\n",
        "plt.axvline(0, color='black', linewidth=0.5)\n",
        "plt.ylim(-10, 10)  # limit y range for better view\n",
        "plt.title('Graph of y = 1/x')\n",
        "plt.xlabel('x')\n",
        "plt.ylabel('y')\n",
        "plt.grid(True)\n",
        "plt.legend()\n",
        "plt.show()\n"
      ],
      "metadata": {
        "id": "xhuRALDxqlVw",
        "outputId": "137cd3cd-c6cf-4a49-8d0a-0c02c00d7bf4",
        "colab": {
          "base_uri": "https://localhost:8080/",
          "height": 472
        }
      },
      "id": "xhuRALDxqlVw",
      "execution_count": 8,
      "outputs": [
        {
          "output_type": "display_data",
          "data": {
            "text/plain": [
              "<Figure size 640x480 with 1 Axes>"
            ],
            "image/png": "[encoded data removed]"
          },
          "metadata": {}
        }
      ]
    }
  ],
  "metadata": {
    "kernelspec": {
      "display_name": "Python 3 (ipykernel)",
      "language": "python",
      "name": "python3"
    },
    "language_info": {
      "codemirror_mode": {
        "name": "ipython",
        "version": 3
      },
      "file_extension": ".py",
      "mimetype": "text/x-python",
      "name": "python",
      "nbconvert_exporter": "python",
      "pygments_lexer": "ipython3",
      "version": "3.11.3"
    },
    "colab": {
      "provenance": []
    }
  },
  "nbformat": 4,
  "nbformat_minor": 5
}